{
  "nbformat": 4,
  "nbformat_minor": 0,
  "metadata": {
    "colab": {
      "provenance": [],
      "include_colab_link": true
    },
    "kernelspec": {
      "name": "python3",
      "display_name": "Python 3"
    }
  },
  "cells": [
    {
      "cell_type": "markdown",
      "metadata": {
        "id": "view-in-github",
        "colab_type": "text"
      },
      "source": [
        "<a href=\"https://colab.research.google.com/github/praveen0908/datasciencecoursera/blob/main/One_sample_z_test_(Python).ipynb\" target=\"_parent\"><img src=\"https://colab.research.google.com/assets/colab-badge.svg\" alt=\"Open In Colab\"/></a>"
      ]
    },
    {
      "cell_type": "code",
      "metadata": {
        "id": "c8KFR9QeVKeZ"
      },
      "source": [
        "# Our \"standard\" imports\n",
        "import pandas as pd\n",
        "import random"
      ],
      "execution_count": 1,
      "outputs": []
    },
    {
      "cell_type": "code",
      "metadata": {
        "id": "zYxIvPjEb_qT"
      },
      "source": [
        "# Create easier-to-read plots in Python using my favorite style `fivethirtyeight`\n",
        "import matplotlib.pyplot as plt\n",
        "plt.style.use('fivethirtyeight')"
      ],
      "execution_count": null,
      "outputs": []
    },
    {
      "cell_type": "code",
      "metadata": {
        "id": "fd6CammVSNGQ"
      },
      "source": [
        "from statsmodels.stats.weightstats import ztest"
      ],
      "execution_count": null,
      "outputs": []
    },
    {
      "cell_type": "code",
      "metadata": {
        "id": "aId0RcOaUGTc"
      },
      "source": [
        "data = []\n",
        "for i in range(1000):\n",
        "  roll = random.choice( [1, 1, 2, 3, 4, 5, 6] )\n",
        "  data.append( {'roll': roll} )\n",
        "df = pd.DataFrame(data)"
      ],
      "execution_count": null,
      "outputs": []
    },
    {
      "cell_type": "code",
      "metadata": {
        "id": "kI7Mk5imUmLR",
        "outputId": "179fc3b3-073d-44b7-c942-ac5ef5993fdb",
        "colab": {
          "base_uri": "https://localhost:8080/",
          "height": 34
        }
      },
      "source": [
        "ztest( df[\"roll\"], value=3.5 )"
      ],
      "execution_count": null,
      "outputs": [
        {
          "output_type": "execute_result",
          "data": {
            "text/plain": [
              "(-5.747725992634994, 9.045166153939797e-09)"
            ]
          },
          "metadata": {
            "tags": []
          },
          "execution_count": 9
        }
      ]
    },
    {
      "cell_type": "code",
      "metadata": {
        "id": "hmwvc7o1UsOx"
      },
      "source": [
        "def simulatePanel():\n",
        "  numChosen = 0\n",
        "  for i in range(100):\n",
        "    choice = random.randint(1, 100)\n",
        "    # 1-26: Randomly picked an African American juror\n",
        "    # 27-100: Anyone else\n",
        "    if choice <= 26:\n",
        "      numChosen = numChosen + 1\n",
        "\n",
        "  return numChosen"
      ],
      "execution_count": null,
      "outputs": []
    },
    {
      "cell_type": "code",
      "metadata": {
        "id": "oh8t7Ku0Xtzc"
      },
      "source": [
        "data = []\n",
        "for i in range(10000):\n",
        "  jury = simulatePanel()\n",
        "  data.append( {'jury': jury} )\n",
        "df = pd.DataFrame(data)"
      ],
      "execution_count": null,
      "outputs": []
    },
    {
      "cell_type": "code",
      "metadata": {
        "id": "K7FjiRbCXvK5",
        "outputId": "b88d44b1-8f0b-44f9-d722-dbdcd2a6eddb",
        "colab": {
          "base_uri": "https://localhost:8080/",
          "height": 338
        }
      },
      "source": [
        "df.hist()"
      ],
      "execution_count": null,
      "outputs": [
        {
          "output_type": "execute_result",
          "data": {
            "text/plain": [
              "array([[<matplotlib.axes._subplots.AxesSubplot object at 0x7fcac7923320>]],\n",
              "      dtype=object)"
            ]
          },
          "metadata": {
            "tags": []
          },
          "execution_count": 26
        },
        {
          "output_type": "display_data",
          "data": {
            "image/png": "[encoded data removed]",
            "text/plain": [
              "<Figure size 432x288 with 1 Axes>"
            ]
          },
          "metadata": {
            "tags": []
          }
        }
      ]
    },
    {
      "cell_type": "code",
      "metadata": {
        "id": "QYogh2ngiMCa",
        "outputId": "94c24c58-cf3b-4c15-e1d3-e64a6a487e38",
        "colab": {
          "base_uri": "https://localhost:8080/",
          "height": 34
        }
      },
      "source": [
        "ztest( df['jury'], value=8 )"
      ],
      "execution_count": null,
      "outputs": [
        {
          "output_type": "execute_result",
          "data": {
            "text/plain": [
              "(410.0534727939626, 0.0)"
            ]
          },
          "metadata": {
            "tags": []
          },
          "execution_count": 33
        }
      ]
    },
    {
      "cell_type": "code",
      "metadata": {
        "id": "o5Vu53T5iYjA"
      },
      "source": [],
      "execution_count": null,
      "outputs": []
    }
  ]
}